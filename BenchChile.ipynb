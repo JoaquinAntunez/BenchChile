{
 "cells": [
  {
   "cell_type": "markdown",
   "id": "0043d40f",
   "metadata": {},
   "source": [
    "# Mapeo de indicadores\n",
    "### Bench Chile (BI)"
   ]
  },
  {
   "cell_type": "markdown",
   "id": "727c7660-b9fa-41fb-a903-0e58fe10e329",
   "metadata": {},
   "source": [
    "<div class = 'alert alert-block alert-info'>\n",
    "    <b>Indicadores :</b> Ventas, Entradas, Tráfico, Conversión, Boleta, Tickets, AxT, PPP, UPT,  \n",
    "</div>"
   ]
  },
  {
   "cell_type": "markdown",
   "id": "46d4be5c-1d14-4238-ba9a-c5320bfd6a10",
   "metadata": {},
   "source": [
    "#### Origen de los datos:\n",
    "El origen de los datos que estamos utilizando para Bench Inmall provienen del <b>Datalake</b> (Holding, Store, Daily_facts) como tambien del <b>Maestro_CHI</b> donde podemos encontrar las categorías, marcas, calle/mall, plataforma"
   ]
  },
  {
   "cell_type": "markdown",
   "id": "e31aea0d-7cc3-4d1f-92c3-d1f037c4d18f",
   "metadata": {},
   "source": [
    "<b>Tráfico(TE) :</b> El Tráfico externo representa la cantidad de personas que pasan por delante de la tienda en un periodo determinado. "
   ]
  },
  {
   "cell_type": "markdown",
   "id": "61438ec4-670f-4ce2-9e78-089e4d1fbf23",
   "metadata": {},
   "source": [
    "<b>Venta :</b> El total de ventas realizadas en la tienda en un periodo determinado"
   ]
  },
  {
   "cell_type": "markdown",
   "id": "50ec8d63-b18c-4d56-8485-884bd4a55941",
   "metadata": {},
   "source": [
    "<b>Entradas: </b> Número total de personas que entran en la tienda"
   ]
  },
  {
   "cell_type": "markdown",
   "id": "1f21ea6e-d834-43c0-823d-6759b2d029dc",
   "metadata": {},
   "source": [
    "<b>Conversión:</b> Porcentaje de personas que compran en relacion al número de entradas"
   ]
  },
  {
   "cell_type": "markdown",
   "id": "de0722e2-d3e1-403a-a22c-4f4ce739a294",
   "metadata": {},
   "source": [
    "<b>Boleta:</b> Se refiere al valor promedio de las compras realizadas en cada transacción(revisar)"
   ]
  },
  {
   "cell_type": "markdown",
   "id": "c39f55ee-4f06-42ba-bd1a-130b8555a5f6",
   "metadata": {},
   "source": [
    "<b>AxT:</b> Nos referimos al número promedio de artículos que un cliente compra en una solo transacción, midiendo cuantos en promedio, se incluyen en cada boleta o ticket de compra"
   ]
  },
  {
   "cell_type": "markdown",
   "id": "e5698c4a-9a28-497d-bc56-20a249469d9a",
   "metadata": {},
   "source": [
    "<b>PPP:</b> Este indicador se utiliza para medir el precio medio de los productos vendidos dentro de una categoría o tienda"
   ]
  },
  {
   "cell_type": "markdown",
   "id": "f578b270-fab1-454a-8230-e1bbac6fe1a4",
   "metadata": {},
   "source": [
    "<b>UPT:</b> Las unidades por transacción mide el número promedio de unidades o productos vendidos por cada transacción o venta"
   ]
  },
  {
   "cell_type": "markdown",
   "id": "9021b0d4-664f-42b1-92cf-dccf70b3164b",
   "metadata": {},
   "source": [
    "<div class = 'alert alert-block alert-warning' >\n",
    "    <b>Filtros :</b> Tienda, Holding, Categoría, Mall, Operador, Zona, Periodo y Operador\n",
    "</div>"
   ]
  },
  {
   "cell_type": "markdown",
   "id": "47383b38-5df0-41cc-a431-1c8dfe6f4d90",
   "metadata": {},
   "source": [
    "#### <b>Filtros aplicados a los indicadores:</b>\n",
    "<p>Entradas mayor a 0</p>\n",
    "<p>Las ventas con ticket mayor o igual a 1</p>\n",
    "<p>Filtro en articulo blockeado (revisar) IS CONSIDERAR</p>\n",
    "<p>En la evaluaciones de Categorías toma todas las marcas</p>"
   ]
  },
  {
   "cell_type": "markdown",
   "id": "cd730d95-9fd0-4628-a1c3-b78e814fbceb",
   "metadata": {},
   "source": [
    "____"
   ]
  },
  {
   "cell_type": "markdown",
   "id": "d3e4d00d",
   "metadata": {
    "tags": []
   },
   "source": [
    "### Páginas"
   ]
  },
  {
   "cell_type": "markdown",
   "id": "54cc9356",
   "metadata": {},
   "source": [
    "#### 2024 vs 2023"
   ]
  },
  {
   "cell_type": "markdown",
   "id": "fab8dc4d-9dda-4c3d-9f13-8184a0512d65",
   "metadata": {},
   "source": [
    "En este apartado podemos ver la variacion comparativa entre YTD y SSS respecto a los indicadores"
   ]
  },
  {
   "cell_type": "markdown",
   "id": "f66f393f-614f-4166-b84e-ab5fb58f9ee3",
   "metadata": {},
   "source": [
    "YTD(%) = ((valor actual - valor inicial del año) / valor inicial del año)) x 100"
   ]
  },
  {
   "cell_type": "markdown",
   "id": "cb3e6946",
   "metadata": {},
   "source": [
    "SSS: Medida para evaluar el rendimiento subyacente de las tiendas establecidas "
   ]
  },
  {
   "cell_type": "markdown",
   "id": "2fb3702e-e7f1-47c0-83c6-54926f7ea0cf",
   "metadata": {},
   "source": [
    "Medida para evaluar el rendimiento subyacentes de las tiendas establecidas"
   ]
  },
  {
   "cell_type": "markdown",
   "id": "d3f36332-38c2-4e44-b982-ae230bf97a0a",
   "metadata": {},
   "source": [
    " SSS (%) = ((indicador mes actual - indicador mismo mes año anterior) / indicador mismo mes año anterior) x 100"
   ]
  },
  {
   "cell_type": "markdown",
   "id": "75ef15b3",
   "metadata": {
    "heading_collapsed": true,
    "tags": []
   },
   "source": [
    "#### Indicadores promedio"
   ]
  },
  {
   "cell_type": "markdown",
   "id": "29c4c2cc-3eab-49af-b782-c9a6da3312f5",
   "metadata": {},
   "source": [
    "Acá podemos visualizar una tabla comparativa de indicadores nominales de la industría respecto a los meses por año comparativo. Los indicadores comparados de año a año son Entradas, conversión Boleta y ventas."
   ]
  },
  {
   "cell_type": "markdown",
   "id": "e5b147b8",
   "metadata": {
    "hidden": true
   },
   "source": [
    "<b>*Inicador nominal industrial-retail*</b> mide y evalua el rendimiento en terminos nominales, es decir, sin ajuste de inflacion, es útil para comparar periodos cortos ayudando a tomar decisiones inmediatas"
   ]
  },
  {
   "cell_type": "markdown",
   "id": "cb6a7793-3013-4c3b-871d-f7ded9373349",
   "metadata": {},
   "source": [
    "Variación Nominal = ((indicador q1 2024 - indicador q1 2023) / indicador q1 2023) x 100"
   ]
  },
  {
   "cell_type": "markdown",
   "id": "c71aa71c",
   "metadata": {
    "heading_collapsed": true,
    "tags": []
   },
   "source": [
    "#### Variación por categoría"
   ]
  },
  {
   "cell_type": "markdown",
   "id": "1991f87d",
   "metadata": {
    "hidden": true
   },
   "source": [
    "Métrica que utilizamos para medir el cambio en indicadores dentro de distintas categorías de producto. Entregando un analisis financiero y de rendimiento permitiendo entender por categoría el rendimiento y detectar tendencias. "
   ]
  },
  {
   "cell_type": "markdown",
   "id": "b5e3b34e-e536-433e-85ad-978391cd9e3a",
   "metadata": {},
   "source": [
    "Variación por categoría = ((indicador actual de la categoría - indicador anterior de la categoría) / indicador anterior categoría ) x 100"
   ]
  },
  {
   "cell_type": "markdown",
   "id": "b4716a78",
   "metadata": {
    "heading_collapsed": true
   },
   "source": [
    "#### Ventas promedio"
   ]
  },
  {
   "cell_type": "markdown",
   "id": "0dd599ef-7fee-4e49-b5eb-c8b7074f176f",
   "metadata": {},
   "source": [
    "Se pueden ver dos tablas, una contiene grafico de barra respecto las ventas promedio por categoría respecto de un año a otro y por otro lado vemos el promedio diario por categoría respecto las ventas del año 2023 y 2024"
   ]
  },
  {
   "cell_type": "markdown",
   "id": "db56f2f7",
   "metadata": {
    "hidden": true
   },
   "source": [
    "Venta promedio por categoría: Metrica que entiende el rendimiento de cada categoría y compara su desempeño, tiene como objetivo una vision clara del rendimiento medio identificando tendencias comparando categorías tomando desiciones de venta y marketing"
   ]
  },
  {
   "cell_type": "markdown",
   "id": "48078c36-4f7e-4069-a761-b5d57b36b97b",
   "metadata": {},
   "source": [
    "Ventas promedio por categoría = ventas totales de la categoría / número de períodos"
   ]
  },
  {
   "cell_type": "markdown",
   "id": "a2a6f79c",
   "metadata": {},
   "source": [
    "#### Ubicación zona"
   ]
  },
  {
   "cell_type": "markdown",
   "id": "1ad7388b-3952-4877-8410-c367347333dd",
   "metadata": {},
   "source": [
    "En esta sección podemos ver dos tablas, una representa los indicadores por ubicación(calle/mall) y la otra representa la variacion por zona de los indicadores  "
   ]
  },
  {
   "cell_type": "markdown",
   "id": "3b856055-de17-4bd0-81bc-132446b91644",
   "metadata": {},
   "source": [
    "Mide las metricas en datos geoespaciales, entendiendo como diferentes ubicaciónes están afectados al rendimiento y oportunidad de expancion."
   ]
  },
  {
   "cell_type": "markdown",
   "id": "5f76072f",
   "metadata": {},
   "source": [
    "Ubicacion: se realiza la clasificacion y análisis entre calle y mall"
   ]
  },
  {
   "cell_type": "markdown",
   "id": "9bb380f8",
   "metadata": {},
   "source": [
    "Variacion por zona mide el cambio en una variable específica permitiendo identificar oportunidad de mejora y crecimiento en el área."
   ]
  },
  {
   "cell_type": "markdown",
   "id": "4a08a106",
   "metadata": {},
   "source": [
    "#### Variación por mall"
   ]
  },
  {
   "cell_type": "markdown",
   "id": "3591882f-c612-48fe-b5d0-09d2f1e3eeef",
   "metadata": {},
   "source": [
    "Acá podemos ver una tabla donde muestra la variacion de los indicadores por mall respecto al SSS DIA.\n",
    "Métrica que analisa la medida especifica de los indicadores entre diferentes centros comerciales durante un período determinado. Esta metrica sirve para comparar el rendimiento de diferentes mall y para identificar tendencias de oportunidad de mejora."
   ]
  },
  {
   "cell_type": "markdown",
   "id": "f32ed84c",
   "metadata": {},
   "source": [
    "#### Semanal"
   ]
  },
  {
   "cell_type": "markdown",
   "id": "a8d73a76-a169-4f10-876f-2f6ca7429595",
   "metadata": {},
   "source": [
    "Podemos ver dos tablas de graficos mostrando las ventas totales por semana y las entradas promedio por semana."
   ]
  },
  {
   "cell_type": "markdown",
   "id": "8bca8b46-a49e-4c1f-856c-2189abc0f048",
   "metadata": {},
   "source": [
    "_________"
   ]
  }
 ],
 "metadata": {
  "kernelspec": {
   "display_name": "Python 3 (ipykernel)",
   "language": "python",
   "name": "python3"
  },
  "language_info": {
   "codemirror_mode": {
    "name": "ipython",
    "version": 3
   },
   "file_extension": ".py",
   "mimetype": "text/x-python",
   "name": "python",
   "nbconvert_exporter": "python",
   "pygments_lexer": "ipython3",
   "version": "3.10.6"
  },
  "toc": {
   "base_numbering": 1,
   "nav_menu": {},
   "number_sections": true,
   "sideBar": true,
   "skip_h1_title": false,
   "title_cell": "Table of Contents",
   "title_sidebar": "Contents",
   "toc_cell": false,
   "toc_position": {},
   "toc_section_display": true,
   "toc_window_display": false
  }
 },
 "nbformat": 4,
 "nbformat_minor": 5
}
