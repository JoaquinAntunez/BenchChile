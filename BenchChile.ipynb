{
 "cells": [
  {
   "cell_type": "markdown",
   "id": "0043d40f",
   "metadata": {},
   "source": [
    "# Mapeo de indicadores\n",
    "### Bench Chile (BI)"
   ]
  },
  {
   "cell_type": "markdown",
   "id": "d3e4d00d",
   "metadata": {
    "tags": []
   },
   "source": [
    "### 2024 vs 2023 "
   ]
  },
  {
   "cell_type": "markdown",
   "id": "54cc9356",
   "metadata": {},
   "source": [
    "variacion YTD ingresando la fecha"
   ]
  },
  {
   "cell_type": "markdown",
   "id": "cb3e6946",
   "metadata": {},
   "source": [
    "Variacion mensual SSS Ingresando la fecha"
   ]
  },
  {
   "cell_type": "markdown",
   "id": "8836d55f",
   "metadata": {},
   "source": [
    "<div class = 'alert alert-block alert-info'>\n",
    "    <b>Indicadores :</b> Tráfico, Conversión, Boleta, ventas, Tickets, AxT, PPP\n",
    "    </div>"
   ]
  },
  {
   "cell_type": "markdown",
   "id": "9a4d2a0b",
   "metadata": {},
   "source": [
    "<div class = 'alert alert-block alert-warning'>\n",
    "    <b>Filtros :</b> Tienda, Holding, Categoría, Mall, Operador, Zona\n",
    "    </div>"
   ]
  },
  {
   "cell_type": "markdown",
   "id": "75ef15b3",
   "metadata": {
    "heading_collapsed": true,
    "tags": []
   },
   "source": [
    "### Indicadores promedio"
   ]
  },
  {
   "cell_type": "markdown",
   "id": "e5b147b8",
   "metadata": {
    "hidden": true
   },
   "source": [
    "Indicador nominal industrial retail representada en meses y comparada año vs año"
   ]
  },
  {
   "cell_type": "markdown",
   "id": "894b90be",
   "metadata": {
    "hidden": true
   },
   "source": [
    "<div class = 'alert alert-block alert-info'>\n",
    "    <b>Indicadores :</b> Entradas, Conv, Boleta, Ventas\n",
    "    </div>"
   ]
  },
  {
   "cell_type": "markdown",
   "id": "d10d0e5d",
   "metadata": {
    "hidden": true
   },
   "source": [
    "<div class = 'alert alert-block alert-warning'>\n",
    "    <b>Filtros :</b> Periodo, Tienda, Holding, Categoría, Mall, Operador y zona\n",
    "    </div>"
   ]
  },
  {
   "cell_type": "markdown",
   "id": "c71aa71c",
   "metadata": {
    "heading_collapsed": true,
    "tags": []
   },
   "source": [
    "### Variación por categoría"
   ]
  },
  {
   "cell_type": "markdown",
   "id": "1991f87d",
   "metadata": {
    "hidden": true
   },
   "source": [
    "Variación por categoría "
   ]
  },
  {
   "cell_type": "markdown",
   "id": "a574d186",
   "metadata": {
    "hidden": true
   },
   "source": [
    "<div class = 'alert alert-block alert-info'>\n",
    "    <b>Indicadores :</b> Tráfico, Conversion, Boleta, Venta, UPT, PPP, Tickets\n",
    "    </div>"
   ]
  },
  {
   "cell_type": "markdown",
   "id": "a2415a86",
   "metadata": {
    "hidden": true
   },
   "source": [
    "<div class = 'alert alert-block alert-warning'>\n",
    "    <b>Filtros :</b> Mes (fecha), Tienda, Holding, Categoría, Mall, Operador y zona\n",
    "    </div>"
   ]
  },
  {
   "cell_type": "markdown",
   "id": "b4716a78",
   "metadata": {
    "heading_collapsed": true
   },
   "source": [
    "### Ventas promedio"
   ]
  },
  {
   "cell_type": "markdown",
   "id": "db56f2f7",
   "metadata": {
    "hidden": true
   },
   "source": [
    "Venta promedio por categoría año vs año"
   ]
  },
  {
   "cell_type": "markdown",
   "id": "dff3a88b",
   "metadata": {
    "hidden": true
   },
   "source": [
    "Ventas promedios diarios por categoría"
   ]
  },
  {
   "cell_type": "markdown",
   "id": "9edca5c3",
   "metadata": {
    "hidden": true
   },
   "source": [
    "<div class = 'alert alert-block alert-info'>\n",
    "    <b>Indicadores :</b> Ventas año vs año\n",
    "    </div>"
   ]
  },
  {
   "cell_type": "markdown",
   "id": "e6d33dd9",
   "metadata": {
    "hidden": true
   },
   "source": [
    "<div class = 'alert alert-block alert-warning'>\n",
    "    <b>Filtros :</b> Periodo, Tienda, Holding, Categoría, Mall, Operador y zona\n",
    "    </div>"
   ]
  },
  {
   "cell_type": "markdown",
   "id": "a2a6f79c",
   "metadata": {},
   "source": [
    "### Ubicación zona"
   ]
  },
  {
   "cell_type": "markdown",
   "id": "5f76072f",
   "metadata": {},
   "source": [
    "Ubicacion"
   ]
  },
  {
   "cell_type": "markdown",
   "id": "9bb380f8",
   "metadata": {},
   "source": [
    "Variacion por zona"
   ]
  },
  {
   "cell_type": "markdown",
   "id": "35bcb7db",
   "metadata": {},
   "source": [
    "<div class = 'alert alert-block alert-info'>\n",
    "    <b>Indicadores :</b> Tráfico, Conv, Boleta, Venta, UPT, PPP, Tickets\n",
    "    </div>"
   ]
  },
  {
   "cell_type": "markdown",
   "id": "d6bad4bf",
   "metadata": {},
   "source": [
    "<div class = 'alert alert-block alert-warning'>\n",
    "    <b>Filtros :</b> Mes, Grupo, Categoría, Mall, Operador y zona\n",
    "    </div>"
   ]
  },
  {
   "cell_type": "markdown",
   "id": "4a08a106",
   "metadata": {},
   "source": [
    "### Variación por mall"
   ]
  },
  {
   "cell_type": "markdown",
   "id": "1881c21c",
   "metadata": {},
   "source": [
    "Variacion por mall "
   ]
  },
  {
   "cell_type": "markdown",
   "id": "439cafde",
   "metadata": {},
   "source": [
    "<div class = 'alert alert-block alert-info'>\n",
    "    <b>Indicadores :</b> Ventas, Entradas, Conv, Boleta, UPT, PPP\n",
    "    </div>"
   ]
  },
  {
   "cell_type": "markdown",
   "id": "c18637b4",
   "metadata": {},
   "source": [
    "<div class = 'alert alert-block alert-warning'>\n",
    "    <b>Filtros :</b> Mes, Tienda, Grupo, Categoría, Mall, Operador y zona\n",
    "    </div>"
   ]
  },
  {
   "cell_type": "markdown",
   "id": "f32ed84c",
   "metadata": {},
   "source": [
    "### Semanal"
   ]
  },
  {
   "cell_type": "markdown",
   "id": "11042319",
   "metadata": {},
   "source": [
    "Venta promedio por semana"
   ]
  },
  {
   "cell_type": "markdown",
   "id": "4f635433",
   "metadata": {},
   "source": [
    "Entrada promedio por semana"
   ]
  },
  {
   "cell_type": "markdown",
   "id": "1caba2fb",
   "metadata": {},
   "source": [
    "<div class = 'alert alert-block alert-info'>\n",
    "    <b>Indicadores :</b> Ventas totales, ventas promedio, entradas totales y entradas promedio\n",
    "    </div>"
   ]
  },
  {
   "cell_type": "markdown",
   "id": "dc3af823",
   "metadata": {},
   "source": [
    "<div class = 'alert alert-block alert-warning'>\n",
    "    <b>Filtros :</b> Fecha, Tienda, Grupo, Categoría, Mall, Operador y zona\n",
    "    </div>"
   ]
  },
  {
   "cell_type": "code",
   "execution_count": null,
   "id": "ff578c13-103a-4636-abf7-845f604c42f8",
   "metadata": {},
   "outputs": [],
   "source": [
    "Hola"
   ]
  }
 ],
 "metadata": {
  "kernelspec": {
   "display_name": "Python 3 (ipykernel)",
   "language": "python",
   "name": "python3"
  },
  "language_info": {
   "codemirror_mode": {
    "name": "ipython",
    "version": 3
   },
   "file_extension": ".py",
   "mimetype": "text/x-python",
   "name": "python",
   "nbconvert_exporter": "python",
   "pygments_lexer": "ipython3",
   "version": "3.10.6"
  },
  "toc": {
   "base_numbering": 1,
   "nav_menu": {},
   "number_sections": true,
   "sideBar": true,
   "skip_h1_title": false,
   "title_cell": "Table of Contents",
   "title_sidebar": "Contents",
   "toc_cell": false,
   "toc_position": {},
   "toc_section_display": true,
   "toc_window_display": false
  }
 },
 "nbformat": 4,
 "nbformat_minor": 5
}
