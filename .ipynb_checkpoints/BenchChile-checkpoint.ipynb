{
 "cells": [
  {
   "cell_type": "markdown",
   "id": "0043d40f",
   "metadata": {},
   "source": [
    "# Mapeo de indicadores\n",
    "### Bench Chile (BI)"
   ]
  },
  {
   "cell_type": "markdown",
   "id": "727c7660-b9fa-41fb-a903-0e58fe10e329",
   "metadata": {},
   "source": [
    "<div class = 'alert alert-block alert-info'>\n",
    "    <b>Indicadores :</b> Ventas, Entradas, Tráfico, Conversión, Boleta, Tickets, AxT, PPP, UPT,  \n",
    "</div>"
   ]
  },
  {
   "cell_type": "markdown",
   "id": "9021b0d4-664f-42b1-92cf-dccf70b3164b",
   "metadata": {},
   "source": [
    "<div class = 'alert alert-block alert-warning' >\n",
    "    <b>Filtros :</b> Tienda, Holding, Categoría, Mall, Operador, Zona, Fecha, Grupo\n",
    "</div>"
   ]
  },
  {
   "cell_type": "markdown",
   "id": "14a74d01-bd51-47a0-a69a-c7d9cf4b0672",
   "metadata": {
    "tags": []
   },
   "source": [
    "### Funciones"
   ]
  },
  {
   "cell_type": "markdown",
   "id": "cd730d95-9fd0-4628-a1c3-b78e814fbceb",
   "metadata": {},
   "source": [
    "____"
   ]
  },
  {
   "cell_type": "markdown",
   "id": "d3e4d00d",
   "metadata": {
    "tags": []
   },
   "source": [
    "#### 2024 vs 2023 "
   ]
  },
  {
   "cell_type": "markdown",
   "id": "54cc9356",
   "metadata": {},
   "source": [
    "<b>variacion YTD</b>"
   ]
  },
  {
   "cell_type": "markdown",
   "id": "24aaa426-71ed-479e-b6f1-5777afb598da",
   "metadata": {},
   "source": [
    "Medida porcentual utilizada para evaluar el rendimiento de los indicadores, de un año inicial a dia actual (fecha) "
   ]
  },
  {
   "cell_type": "markdown",
   "id": "f66f393f-614f-4166-b84e-ab5fb58f9ee3",
   "metadata": {},
   "source": [
    "<b>YTD(%) =</b> ((valor actual - valor inicial del año) / valor inicial del año)) x 100"
   ]
  },
  {
   "cell_type": "code",
   "execution_count": 6,
   "id": "227f8877-3085-48d6-b57c-00280a4e5697",
   "metadata": {},
   "outputs": [],
   "source": [
    "def variacion_ytd (indicador_actual, indicador_inicia):\n",
    "    var_ytd = ((indicador_actual - indicador_inicial) / indicador_inicial) * 100\n",
    "    return var_ytd"
   ]
  },
  {
   "cell_type": "markdown",
   "id": "cb3e6946",
   "metadata": {},
   "source": [
    "<b>Variacion mensual SSS (Same-Store Sale)</b> "
   ]
  },
  {
   "cell_type": "markdown",
   "id": "2fb3702e-e7f1-47c0-83c6-54926f7ea0cf",
   "metadata": {},
   "source": [
    "Medida para evaluar el rendimiento subyacentes de las tiendas establecidas"
   ]
  },
  {
   "cell_type": "markdown",
   "id": "d3f36332-38c2-4e44-b982-ae230bf97a0a",
   "metadata": {},
   "source": [
    "<b> Variacion mensual SSS (%) =</b> ((indicador mes actual - indicador mismo mes año anterior) / indicador mismo mes año anterior) x 100"
   ]
  },
  {
   "cell_type": "code",
   "execution_count": 7,
   "id": "470cb584-c7aa-42b0-883b-1437fd794b8b",
   "metadata": {},
   "outputs": [],
   "source": [
    "def var_SSS (indicador_mes_actual, indicador_mes_anterior):\n",
    "    var_sss = ((indicador_mes_actual - indicador_mes_anterior) / indicador_mes_anterior) * 100\n",
    "    return var_sss"
   ]
  },
  {
   "cell_type": "markdown",
   "id": "75ef15b3",
   "metadata": {
    "heading_collapsed": true,
    "tags": []
   },
   "source": [
    "#### Indicadores promedio"
   ]
  },
  {
   "cell_type": "markdown",
   "id": "e5b147b8",
   "metadata": {
    "hidden": true
   },
   "source": [
    "Indicador nominal industrial retail representada en meses y comparada año vs año"
   ]
  },
  {
   "cell_type": "markdown",
   "id": "c71aa71c",
   "metadata": {
    "heading_collapsed": true,
    "tags": []
   },
   "source": [
    "#### Variación por categoría"
   ]
  },
  {
   "cell_type": "markdown",
   "id": "1991f87d",
   "metadata": {
    "hidden": true
   },
   "source": [
    "Variación por categoría "
   ]
  },
  {
   "cell_type": "markdown",
   "id": "b4716a78",
   "metadata": {
    "heading_collapsed": true
   },
   "source": [
    "#### Ventas promedio"
   ]
  },
  {
   "cell_type": "markdown",
   "id": "db56f2f7",
   "metadata": {
    "hidden": true
   },
   "source": [
    "Venta promedio por categoría año vs año"
   ]
  },
  {
   "cell_type": "markdown",
   "id": "dff3a88b",
   "metadata": {
    "hidden": true
   },
   "source": [
    "Ventas promedios diarios por categoría"
   ]
  },
  {
   "cell_type": "markdown",
   "id": "a2a6f79c",
   "metadata": {},
   "source": [
    "#### Ubicación zona"
   ]
  },
  {
   "cell_type": "markdown",
   "id": "5f76072f",
   "metadata": {},
   "source": [
    "Ubicacion"
   ]
  },
  {
   "cell_type": "markdown",
   "id": "9bb380f8",
   "metadata": {},
   "source": [
    "Variacion por zona"
   ]
  },
  {
   "cell_type": "markdown",
   "id": "4a08a106",
   "metadata": {},
   "source": [
    "#### Variación por mall"
   ]
  },
  {
   "cell_type": "markdown",
   "id": "1881c21c",
   "metadata": {},
   "source": [
    "Variacion por mall "
   ]
  },
  {
   "cell_type": "markdown",
   "id": "f32ed84c",
   "metadata": {},
   "source": [
    "#### Semanal"
   ]
  },
  {
   "cell_type": "markdown",
   "id": "11042319",
   "metadata": {},
   "source": [
    "Venta promedio por semana"
   ]
  },
  {
   "cell_type": "markdown",
   "id": "4f635433",
   "metadata": {},
   "source": [
    "Entrada promedio por semana"
   ]
  }
 ],
 "metadata": {
  "kernelspec": {
   "display_name": "Python 3 (ipykernel)",
   "language": "python",
   "name": "python3"
  },
  "language_info": {
   "codemirror_mode": {
    "name": "ipython",
    "version": 3
   },
   "file_extension": ".py",
   "mimetype": "text/x-python",
   "name": "python",
   "nbconvert_exporter": "python",
   "pygments_lexer": "ipython3",
   "version": "3.10.6"
  },
  "toc": {
   "base_numbering": 1,
   "nav_menu": {},
   "number_sections": true,
   "sideBar": true,
   "skip_h1_title": false,
   "title_cell": "Table of Contents",
   "title_sidebar": "Contents",
   "toc_cell": false,
   "toc_position": {},
   "toc_section_display": true,
   "toc_window_display": false
  }
 },
 "nbformat": 4,
 "nbformat_minor": 5
}
