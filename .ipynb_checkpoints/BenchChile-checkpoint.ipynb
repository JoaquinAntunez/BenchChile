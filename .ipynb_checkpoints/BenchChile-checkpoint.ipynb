{
 "cells": [
  {
   "cell_type": "markdown",
   "id": "0043d40f",
   "metadata": {},
   "source": [
    "# Mapeo de indicadores\n",
    "### Bench Chile (BI)"
   ]
  },
  {
   "cell_type": "markdown",
   "id": "727c7660-b9fa-41fb-a903-0e58fe10e329",
   "metadata": {},
   "source": [
    "<div class = 'alert alert-block alert-info'>\n",
    "    <b>Indicadores :</b> Ventas, Entradas, Tráfico, Conversión, Boleta, Tickets, AxT, PPP, UPT,  \n",
    "</div>"
   ]
  },
  {
   "cell_type": "markdown",
   "id": "9021b0d4-664f-42b1-92cf-dccf70b3164b",
   "metadata": {},
   "source": [
    "<div class = 'alert alert-block alert-warning' >\n",
    "    <b>Filtros :</b> Tienda, Holding, Categoría, Mall, Operador, Zona, Fecha, Grupo\n",
    "</div>"
   ]
  },
  {
   "cell_type": "markdown",
   "id": "14a74d01-bd51-47a0-a69a-c7d9cf4b0672",
   "metadata": {
    "tags": []
   },
   "source": [
    "### Funciones"
   ]
  },
  {
   "cell_type": "markdown",
   "id": "cd730d95-9fd0-4628-a1c3-b78e814fbceb",
   "metadata": {},
   "source": [
    "____"
   ]
  },
  {
   "cell_type": "markdown",
   "id": "d3e4d00d",
   "metadata": {
    "tags": []
   },
   "source": [
    "#### 2024 vs 2023 "
   ]
  },
  {
   "cell_type": "markdown",
   "id": "54cc9356",
   "metadata": {},
   "source": [
    "<b>variacion YTD</b>"
   ]
  },
  {
   "cell_type": "markdown",
   "id": "24aaa426-71ed-479e-b6f1-5777afb598da",
   "metadata": {},
   "source": [
    "Medida porcentual utilizada para evaluar el rendimiento de los indicadores, de un año inicial a dia actual (fecha) "
   ]
  },
  {
   "cell_type": "markdown",
   "id": "f66f393f-614f-4166-b84e-ab5fb58f9ee3",
   "metadata": {},
   "source": [
    "<b>YTD(%) =</b> ((valor actual - valor inicial del año) / valor inicial del año)) x 100"
   ]
  },
  {
   "cell_type": "code",
   "execution_count": 6,
   "id": "227f8877-3085-48d6-b57c-00280a4e5697",
   "metadata": {},
   "outputs": [],
   "source": [
    "def variacion_ytd (indicador_actual, indicador_inicia):\n",
    "    var_ytd = ((indicador_actual - indicador_inicial) / indicador_inicial) * 100\n",
    "    return var_ytd"
   ]
  },
  {
   "cell_type": "markdown",
   "id": "cb3e6946",
   "metadata": {},
   "source": [
    "<b>Variacion mensual SSS (Same-Store Sale)</b> "
   ]
  },
  {
   "cell_type": "markdown",
   "id": "2fb3702e-e7f1-47c0-83c6-54926f7ea0cf",
   "metadata": {},
   "source": [
    "Medida para evaluar el rendimiento subyacentes de las tiendas establecidas"
   ]
  },
  {
   "cell_type": "markdown",
   "id": "d3f36332-38c2-4e44-b982-ae230bf97a0a",
   "metadata": {},
   "source": [
    "<b> Variacion mensual SSS (%) =</b> ((indicador mes actual - indicador mismo mes año anterior) / indicador mismo mes año anterior) x 100"
   ]
  },
  {
   "cell_type": "code",
   "execution_count": 7,
   "id": "470cb584-c7aa-42b0-883b-1437fd794b8b",
   "metadata": {},
   "outputs": [],
   "source": [
    "def var_SSS (indicador_mes_actual, indicador_mes_anterior):\n",
    "    var_sss = ((indicador_mes_actual - indicador_mes_anterior) / indicador_mes_anterior) * 100\n",
    "    return var_sss"
   ]
  },
  {
   "cell_type": "markdown",
   "id": "75ef15b3",
   "metadata": {
    "heading_collapsed": true,
    "tags": []
   },
   "source": [
    "#### Indicadores promedio"
   ]
  },
  {
   "cell_type": "markdown",
   "id": "e5b147b8",
   "metadata": {
    "hidden": true
   },
   "source": [
    "<b>*Inicador nominal industrial-retail*</b> mide y evalua el rendimiento en terminos nominales, es decir, sin ajuste de inflacion, es útil para comparar periodos cortos ayudando a tomar decisiones inmediatas"
   ]
  },
  {
   "cell_type": "markdown",
   "id": "cb6a7793-3013-4c3b-871d-f7ded9373349",
   "metadata": {},
   "source": [
    "<b>Variación Nominal = </b> ((indicador q1 2024 - indicador q1 2023) / indicador q1 2023) x 100"
   ]
  },
  {
   "cell_type": "code",
   "execution_count": 8,
   "id": "0ccf2ba7-0ec0-404e-bad9-fcb7278dee5a",
   "metadata": {},
   "outputs": [],
   "source": [
    "def indicador_nominal (indicador_1_2024, indicador_2_2023):\n",
    "    variacion_nominal = ((indicador_1_2024 - indicador_2_2023) / indicador_2_2023) * 100\n",
    "    return variacion_nominal"
   ]
  },
  {
   "cell_type": "markdown",
   "id": "c71aa71c",
   "metadata": {
    "heading_collapsed": true,
    "tags": []
   },
   "source": [
    "#### Variación por categoría"
   ]
  },
  {
   "cell_type": "markdown",
   "id": "1991f87d",
   "metadata": {
    "hidden": true
   },
   "source": [
    "<b>Variación por categoría</b> Métrica que utilizamos para medir el cambio en una variable en este caso indicadores dentro de distintas categorías de producto. Entregando un analisis financiero y de rendimiento permitiendo entenderpor categoría el rendimiento y detectar tendencias. "
   ]
  },
  {
   "cell_type": "markdown",
   "id": "b5e3b34e-e536-433e-85ad-978391cd9e3a",
   "metadata": {},
   "source": [
    "<b>Variación por categoría =</b> ((indicador actual de la categoría - indicador anterior de la categoría) / indicador anterior categoría ) x 100"
   ]
  },
  {
   "cell_type": "code",
   "execution_count": 9,
   "id": "afc839d6-c053-4f0c-85a3-08bc5979847b",
   "metadata": {},
   "outputs": [],
   "source": [
    "def Variacion_categoria (indicador_actual_categoria, indicador_anterior_categoria):\n",
    "    var_categoria = ((indicador_actual_categoria - indicador_anterior_categoria) / indicador_anterior_categoria) * 100\n",
    "    return var_categoria"
   ]
  },
  {
   "cell_type": "markdown",
   "id": "b4716a78",
   "metadata": {
    "heading_collapsed": true
   },
   "source": [
    "#### Ventas promedio"
   ]
  },
  {
   "cell_type": "markdown",
   "id": "db56f2f7",
   "metadata": {
    "hidden": true
   },
   "source": [
    "<b>Venta promedio por categoría</b> Metrica que entiende el rendimiento de cada categoría y compara su desempeño, tiene como objetivo una vision clara del rendimiento medio identificando tendencias comparando categorías tomando desiciones de venta y marketing"
   ]
  },
  {
   "cell_type": "markdown",
   "id": "48078c36-4f7e-4069-a761-b5d57b36b97b",
   "metadata": {},
   "source": [
    "<b>Ventas promedio por categoría =</b> ventas totales de la categoría / número de períodos"
   ]
  },
  {
   "cell_type": "code",
   "execution_count": 10,
   "id": "d7aea9e3-a980-435c-aa6a-5c76e3167cfe",
   "metadata": {},
   "outputs": [],
   "source": [
    "def ventas_promedio (venta_categoria):\n",
    "    total_venta = sum(venta_categoria)\n",
    "    promedio_venta = total_venta / len(venta_categoria)\n",
    "    return promedio_venta\n",
    "    "
   ]
  },
  {
   "cell_type": "markdown",
   "id": "dff3a88b",
   "metadata": {
    "hidden": true
   },
   "source": [
    "<b>Ventas promedios diarios por categoría</b>(se comporta de igual forma pero en un perdiodo de dia) - revisar porque muestra el mismo resultado pero en formato tabla."
   ]
  },
  {
   "cell_type": "markdown",
   "id": "a2a6f79c",
   "metadata": {},
   "source": [
    "#### Ubicación zona"
   ]
  },
  {
   "cell_type": "markdown",
   "id": "3b856055-de17-4bd0-81bc-132446b91644",
   "metadata": {},
   "source": [
    "Mide las metricas en datos geoespaciales, entendiendo como diferentes ubicaciónes están afectados al rendimiento y oportunidad de expancion."
   ]
  },
  {
   "cell_type": "markdown",
   "id": "5f76072f",
   "metadata": {},
   "source": [
    "<b>Ubicacion</b> se realiza la clasificacion y análisis entre calle y mall"
   ]
  },
  {
   "cell_type": "markdown",
   "id": "9bb380f8",
   "metadata": {},
   "source": [
    "<b>Variacion por zona</b> mide el cambio en una variable específica permitiendo identificar oportunidad de mejora y crecimiento en el área."
   ]
  },
  {
   "cell_type": "markdown",
   "id": "f1ba0362-c7f5-4aac-9a5d-79ab159f63ef",
   "metadata": {},
   "source": [
    "<b>Variación por zona (%) = ((indicador año actual - indicador año anterior ) / indicador año anterior) x 100</b>"
   ]
  },
  {
   "cell_type": "code",
   "execution_count": 11,
   "id": "143f3383-dd1d-4276-914e-0f46aa38359c",
   "metadata": {},
   "outputs": [],
   "source": [
    "def Variacion_zona (indicador_ac1, indicador_at1):\n",
    "    variacion = ((indicador_ac1 - indicador_at1) / indicador_at1) * 100\n",
    "    return variacion"
   ]
  },
  {
   "cell_type": "markdown",
   "id": "4a08a106",
   "metadata": {},
   "source": [
    "#### Variación por mall"
   ]
  },
  {
   "cell_type": "markdown",
   "id": "3591882f-c612-48fe-b5d0-09d2f1e3eeef",
   "metadata": {},
   "source": [
    "Métrica que analisa la medida especifica de los indicadores entre diferentes centros comerciales durante un período determinado. Esta metrica sirve para comparar el rendimiento de diferentes mall y para identificar tendencias de oportunidad de mejora"
   ]
  },
  {
   "cell_type": "markdown",
   "id": "1881c21c",
   "metadata": {},
   "source": [
    "<b>Variacion por mall(%)</b> = ((indicador año actual - indicador año anterior) / indicador año anterior) x 100"
   ]
  },
  {
   "cell_type": "code",
   "execution_count": 12,
   "id": "978f16b2-da6a-4528-9563-5c91b39d7bd5",
   "metadata": {},
   "outputs": [],
   "source": [
    "def variacion_mall (indicador_actual, indicador_anterior):\n",
    "    variacion = ((indicador_actual - indicador_anterior) / indicador_anterior) * 100\n",
    "    return variacion"
   ]
  },
  {
   "cell_type": "markdown",
   "id": "f32ed84c",
   "metadata": {},
   "source": [
    "#### Semanal"
   ]
  },
  {
   "cell_type": "markdown",
   "id": "11042319",
   "metadata": {},
   "source": [
    "<b>Venta promedio por semana</b> metrica utilizada para analizar el rendimiento semanal del negocio ayudando a identificar tendencia estacionales y portunidad de mejora"
   ]
  },
  {
   "cell_type": "markdown",
   "id": "4f635433",
   "metadata": {},
   "source": [
    "<b>Entrada promedio por semana</b> Actua de igual manera pero en este caso para el indicador en especifico (entradas)"
   ]
  },
  {
   "cell_type": "code",
   "execution_count": 13,
   "id": "5b342873-ca7c-4a66-a349-7ff6e22b7f29",
   "metadata": {},
   "outputs": [],
   "source": [
    "def venta_prom_por_semana(venta_totales, numero_semanas):\n",
    "    promedio_semanal = venta_totales / numero_semanas\n",
    "    return promedio_semanal"
   ]
  },
  {
   "cell_type": "markdown",
   "id": "93998bab-1be6-4f60-846e-5a6153c0499b",
   "metadata": {},
   "source": [
    "<b>venta total semana</b> funcion para obtener una visión clara del rendimiento semanal del negocio."
   ]
  },
  {
   "cell_type": "markdown",
   "id": "e4d161ff-83bd-4dde-a9cd-f5befb9c22ca",
   "metadata": {},
   "source": [
    "<b>Venta total semanal = suma(ventas_diarias)</b>"
   ]
  },
  {
   "cell_type": "code",
   "execution_count": 14,
   "id": "592ab712-7ad2-4af5-ac21-41a2de987bed",
   "metadata": {},
   "outputs": [],
   "source": [
    "def ventas_totales_semana(ventas_diarias):\n",
    "    ventas_totales = sum(ventas_diarias)\n",
    "    return ventas_totales"
   ]
  },
  {
   "cell_type": "markdown",
   "id": "8bca8b46-a49e-4c1f-856c-2189abc0f048",
   "metadata": {},
   "source": [
    "_________"
   ]
  },
  {
   "cell_type": "code",
   "execution_count": null,
   "id": "f809326b-2627-484a-9517-5ab3d8a5bbd6",
   "metadata": {},
   "outputs": [],
   "source": []
  }
 ],
 "metadata": {
  "kernelspec": {
   "display_name": "Python 3 (ipykernel)",
   "language": "python",
   "name": "python3"
  },
  "language_info": {
   "codemirror_mode": {
    "name": "ipython",
    "version": 3
   },
   "file_extension": ".py",
   "mimetype": "text/x-python",
   "name": "python",
   "nbconvert_exporter": "python",
   "pygments_lexer": "ipython3",
   "version": "3.10.6"
  },
  "toc": {
   "base_numbering": 1,
   "nav_menu": {},
   "number_sections": true,
   "sideBar": true,
   "skip_h1_title": false,
   "title_cell": "Table of Contents",
   "title_sidebar": "Contents",
   "toc_cell": false,
   "toc_position": {},
   "toc_section_display": true,
   "toc_window_display": false
  }
 },
 "nbformat": 4,
 "nbformat_minor": 5
}
